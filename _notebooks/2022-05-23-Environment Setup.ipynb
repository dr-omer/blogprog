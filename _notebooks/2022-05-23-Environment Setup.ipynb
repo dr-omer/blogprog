{
 "cells": [
  {
   "cell_type": "markdown",
   "metadata": {},
   "source": [
    "# Activating Project Environment\n",
    "This tutorial shows how to activate project environment in Julia language. It is always a good idea to keep project related dependencies in their respective environments. \n",
    "\n",
    "- toc: true \n",
    "- badges: true\n",
    "- hide_binder_badge: false\n",
    "- hide_deepnote_badge: false\n",
    "- hide_colab_badge: false\n",
    "- comments: true\n",
    "- categories: [jupyter, julia, environment, Images]\n",
    "- author: Omer"
   ]
  },
  {
   "cell_type": "markdown",
   "metadata": {},
   "source": [
    "\n",
    "Every julia project can has it's own environment just as python.\n",
    "In jupyter notebook, the environment can be activated by importing `Pkg` - a julia package management system\n",
    "\n",
    "First, let's ensure we are in correct directory."
   ]
  },
  {
   "cell_type": "code",
   "execution_count": 1,
   "metadata": {},
   "outputs": [
    {
     "data": {
      "text/plain": [
       "\"ImageProcessing\""
      ]
     },
     "metadata": {},
     "output_type": "display_data"
    }
   ],
   "source": [
    "basename(pwd()) # the last part of the directory."
   ]
  },
  {
   "cell_type": "markdown",
   "metadata": {},
   "source": [
    "This seems correct as I am hosting this code file in `ImageProcessing` Folder. Now let's go ahead with activating the environment."
   ]
  },
  {
   "cell_type": "code",
   "execution_count": 2,
   "metadata": {},
   "outputs": [
    {
     "name": "stderr",
     "output_type": "stream",
     "text": [
      "\u001b[32m\u001b[1m  Activating\u001b[22m\u001b[39m new project at `~/Downloads/ImageProcessing`\n"
     ]
    }
   ],
   "source": [
    "using Pkg\n",
    "Pkg.activate(\".\")"
   ]
  },
  {
   "cell_type": "markdown",
   "metadata": {},
   "source": [
    "To see currently installed packages in `ImageProcessing` environment, lets issue a command `installed`"
   ]
  },
  {
   "cell_type": "code",
   "execution_count": 4,
   "metadata": {},
   "outputs": [
    {
     "data": {
      "text/plain": [
       "Pkg.API.ProjectInfo(nothing, nothing, nothing, false, Dict{String, Base.UUID}(), \"/Users/omer/Downloads/ImageProcessing/Project.toml\")"
      ]
     },
     "metadata": {},
     "output_type": "display_data"
    }
   ],
   "source": [
    "#Pkg.installed()\n",
    "Pkg.project()"
   ]
  },
  {
   "cell_type": "markdown",
   "metadata": {},
   "source": [
    "As show above, we don't have anything installed here. So let's install `Images` package"
   ]
  },
  {
   "cell_type": "code",
   "execution_count": 5,
   "metadata": {},
   "outputs": [
    {
     "name": "stderr",
     "output_type": "stream",
     "text": [
      "\u001b[32m\u001b[1m    Updating\u001b[22m\u001b[39m registry at `~/.julia/registries/General.toml`\n",
      "\u001b[32m\u001b[1m   Resolving\u001b[22m\u001b[39m package versions...\n",
      "\u001b[32m\u001b[1m   Installed\u001b[22m\u001b[39m ImageIO ────────── v0.6.5\n",
      "\u001b[32m\u001b[1m   Installed\u001b[22m\u001b[39m ImageShow ──────── v0.3.6\n",
      "\u001b[32m\u001b[1m   Installed\u001b[22m\u001b[39m IntervalSets ───── v0.6.2\n",
      "\u001b[32m\u001b[1m   Installed\u001b[22m\u001b[39m ColorVectorSpace ─ v0.9.9\n",
      "\u001b[32m\u001b[1m   Installed\u001b[22m\u001b[39m TiffImages ─────── v0.4.3\n",
      "\u001b[32m\u001b[1m   Installed\u001b[22m\u001b[39m SpecialFunctions ─ v2.1.5\n",
      "\u001b[32m\u001b[1m   Installed\u001b[22m\u001b[39m OffsetArrays ───── v1.12.1\n",
      "\u001b[32m\u001b[1m   Installed\u001b[22m\u001b[39m LogExpFunctions ── v0.3.15\n",
      "\u001b[32m\u001b[1m   Installed\u001b[22m\u001b[39m ImageMorphology ── v0.3.2\n",
      "\u001b[32m\u001b[1m   Installed\u001b[22m\u001b[39m Compat ─────────── v4.1.0\n",
      "\u001b[32m\u001b[1m   Installed\u001b[22m\u001b[39m LazyModules ────── v0.3.0\n",
      "\u001b[32m\u001b[1m   Installed\u001b[22m\u001b[39m ColorTypes ─────── v0.11.3\n",
      "\u001b[32m\u001b[1m   Installed\u001b[22m\u001b[39m ChainRulesCore ─── v1.15.0\n",
      "\u001b[32m\u001b[1m   Installed\u001b[22m\u001b[39m Graphs ─────────── v1.5.0\n",
      "\u001b[32m\u001b[1m    Updating\u001b[22m\u001b[39m `~/Downloads/ImageProcessing/Project.toml`\n",
      " \u001b[90m [916415d5] \u001b[39m\u001b[92m+ Images v0.25.2\u001b[39m\n",
      "\u001b[32m\u001b[1m    Updating\u001b[22m\u001b[39m `~/Downloads/ImageProcessing/Manifest.toml`\n",
      " \u001b[90m [621f4979] \u001b[39m\u001b[92m+ AbstractFFTs v1.1.0\u001b[39m\n",
      " \u001b[90m [79e6a3ab] \u001b[39m\u001b[92m+ Adapt v3.3.3\u001b[39m\n",
      " \u001b[90m [ec485272] \u001b[39m\u001b[92m+ ArnoldiMethod v0.2.0\u001b[39m\n",
      " \u001b[90m [13072b0f] \u001b[39m\u001b[92m+ AxisAlgorithms v1.0.1\u001b[39m\n",
      " \u001b[90m [39de3d68] \u001b[39m\u001b[92m+ AxisArrays v0.4.5\u001b[39m\n",
      " \u001b[90m [fa961155] \u001b[39m\u001b[92m+ CEnum v0.4.2\u001b[39m\n",
      " \u001b[90m [49dc2e85] \u001b[39m\u001b[92m+ Calculus v0.5.1\u001b[39m\n",
      " \u001b[90m [aafaddc9] \u001b[39m\u001b[92m+ CatIndices v0.2.2\u001b[39m\n",
      " \u001b[90m [d360d2e6] \u001b[39m\u001b[92m+ ChainRulesCore v1.15.0\u001b[39m\n",
      " \u001b[90m [9e997f8a] \u001b[39m\u001b[92m+ ChangesOfVariables v0.1.3\u001b[39m\n",
      " \u001b[90m [aaaa29a8] \u001b[39m\u001b[92m+ Clustering v0.14.2\u001b[39m\n",
      " \u001b[90m [3da002f7] \u001b[39m\u001b[92m+ ColorTypes v0.11.3\u001b[39m\n",
      " \u001b[90m [c3611d14] \u001b[39m\u001b[92m+ ColorVectorSpace v0.9.9\u001b[39m\n",
      " \u001b[90m [5ae59095] \u001b[39m\u001b[92m+ Colors v0.12.8\u001b[39m\n",
      " \u001b[90m [34da2185] \u001b[39m\u001b[92m+ Compat v4.1.0\u001b[39m\n",
      " \u001b[90m [ed09eef8] \u001b[39m\u001b[92m+ ComputationalResources v0.3.2\u001b[39m\n",
      " \u001b[90m [150eb455] \u001b[39m\u001b[92m+ CoordinateTransformations v0.6.2\u001b[39m\n",
      " \u001b[90m [dc8bdbbb] \u001b[39m\u001b[92m+ CustomUnitRanges v1.0.2\u001b[39m\n",
      " \u001b[90m [9a962f9c] \u001b[39m\u001b[92m+ DataAPI v1.10.0\u001b[39m\n",
      " \u001b[90m [864edb3b] \u001b[39m\u001b[92m+ DataStructures v0.17.20\u001b[39m\n",
      " \u001b[90m [b4f34e82] \u001b[39m\u001b[92m+ Distances v0.10.7\u001b[39m\n",
      " \u001b[90m [ffbed154] \u001b[39m\u001b[92m+ DocStringExtensions v0.8.6\u001b[39m\n",
      " \u001b[90m [fa6b7ba4] \u001b[39m\u001b[92m+ DualNumbers v0.6.8\u001b[39m\n",
      " \u001b[90m [4f61f5a4] \u001b[39m\u001b[92m+ FFTViews v0.3.2\u001b[39m\n",
      " \u001b[90m [7a1cc6ca] \u001b[39m\u001b[92m+ FFTW v1.4.6\u001b[39m\n",
      " \u001b[90m [5789e2e9] \u001b[39m\u001b[92m+ FileIO v1.14.0\u001b[39m\n",
      " \u001b[90m [53c48c17] \u001b[39m\u001b[92m+ FixedPointNumbers v0.8.4\u001b[39m\n",
      " \u001b[90m [a2bd30eb] \u001b[39m\u001b[92m+ Graphics v1.1.1\u001b[39m\n",
      " \u001b[90m [86223c79] \u001b[39m\u001b[92m+ Graphs v1.5.0\u001b[39m\n",
      " \u001b[90m [2803e5a7] \u001b[39m\u001b[92m+ ImageAxes v0.6.10\u001b[39m\n",
      " \u001b[90m [c817782e] \u001b[39m\u001b[92m+ ImageBase v0.1.5\u001b[39m\n",
      " \u001b[90m [f332f351] \u001b[39m\u001b[92m+ ImageContrastAdjustment v0.3.10\u001b[39m\n",
      " \u001b[90m [a09fc81d] \u001b[39m\u001b[92m+ ImageCore v0.9.3\u001b[39m\n",
      " \u001b[90m [51556ac3] \u001b[39m\u001b[92m+ ImageDistances v0.2.15\u001b[39m\n",
      " \u001b[90m [6a3955dd] \u001b[39m\u001b[92m+ ImageFiltering v0.7.1\u001b[39m\n",
      " \u001b[90m [82e4d734] \u001b[39m\u001b[92m+ ImageIO v0.6.5\u001b[39m\n",
      " \u001b[90m [6218d12a] \u001b[39m\u001b[92m+ ImageMagick v1.2.1\u001b[39m\n",
      " \u001b[90m [bc367c6b] \u001b[39m\u001b[92m+ ImageMetadata v0.9.8\u001b[39m\n",
      " \u001b[90m [787d08f9] \u001b[39m\u001b[92m+ ImageMorphology v0.3.2\u001b[39m\n",
      " \u001b[90m [2996bd0c] \u001b[39m\u001b[92m+ ImageQualityIndexes v0.3.0\u001b[39m\n",
      " \u001b[90m [80713f31] \u001b[39m\u001b[92m+ ImageSegmentation v1.7.0\u001b[39m\n",
      " \u001b[90m [4e3cecfd] \u001b[39m\u001b[92m+ ImageShow v0.3.6\u001b[39m\n",
      " \u001b[90m [02fcd773] \u001b[39m\u001b[92m+ ImageTransformations v0.9.4\u001b[39m\n",
      " \u001b[90m [916415d5] \u001b[39m\u001b[92m+ Images v0.25.2\u001b[39m\n",
      " \u001b[90m [9b13fd28] \u001b[39m\u001b[92m+ IndirectArrays v1.0.0\u001b[39m\n",
      " \u001b[90m [d25df0c9] \u001b[39m\u001b[92m+ Inflate v0.1.2\u001b[39m\n",
      " \u001b[90m [1d092043] \u001b[39m\u001b[92m+ IntegralArrays v0.1.4\u001b[39m\n",
      " \u001b[90m [a98d9a8b] \u001b[39m\u001b[92m+ Interpolations v0.13.6\u001b[39m\n",
      " \u001b[90m [8197267c] \u001b[39m\u001b[92m+ IntervalSets v0.6.2\u001b[39m\n",
      " \u001b[90m [3587e190] \u001b[39m\u001b[92m+ InverseFunctions v0.1.4\u001b[39m\n",
      " \u001b[90m [92d709cd] \u001b[39m\u001b[92m+ IrrationalConstants v0.1.1\u001b[39m\n",
      " \u001b[90m [c8e1da08] \u001b[39m\u001b[92m+ IterTools v1.4.0\u001b[39m\n",
      " \u001b[90m [033835bb] \u001b[39m\u001b[92m+ JLD2 v0.4.22\u001b[39m\n",
      " \u001b[90m [692b3bcd] \u001b[39m\u001b[92m+ JLLWrappers v1.4.1\u001b[39m\n",
      " \u001b[90m [b835a17e] \u001b[39m\u001b[92m+ JpegTurbo v0.1.1\u001b[39m\n",
      " \u001b[90m [8cdb02fc] \u001b[39m\u001b[92m+ LazyModules v0.3.0\u001b[39m\n",
      " \u001b[90m [2ab3a3ac] \u001b[39m\u001b[92m+ LogExpFunctions v0.3.15\u001b[39m\n",
      " \u001b[90m [1914dd2f] \u001b[39m\u001b[92m+ MacroTools v0.5.9\u001b[39m\n",
      " \u001b[90m [dbb5928d] \u001b[39m\u001b[92m+ MappedArrays v0.4.1\u001b[39m\n",
      " \u001b[90m [626554b9] \u001b[39m\u001b[92m+ MetaGraphs v0.7.1\u001b[39m\n",
      " \u001b[90m [e1d29d7a] \u001b[39m\u001b[92m+ Missings v1.0.2\u001b[39m\n",
      " \u001b[90m [e94cdb99] \u001b[39m\u001b[92m+ MosaicViews v0.3.3\u001b[39m\n",
      " \u001b[90m [77ba4419] \u001b[39m\u001b[92m+ NaNMath v0.3.7\u001b[39m\n",
      " \u001b[90m [b8a86587] \u001b[39m\u001b[92m+ NearestNeighbors v0.4.10\u001b[39m\n",
      " \u001b[90m [f09324ee] \u001b[39m\u001b[92m+ Netpbm v1.0.2\u001b[39m\n",
      " \u001b[90m [6fe1bfb0] \u001b[39m\u001b[92m+ OffsetArrays v1.12.1\u001b[39m\n",
      " \u001b[90m [52e1d378] \u001b[39m\u001b[92m+ OpenEXR v0.3.2\u001b[39m\n",
      " \u001b[90m [bac558e1] \u001b[39m\u001b[92m+ OrderedCollections v1.4.1\u001b[39m\n",
      " \u001b[90m [f57f5aa1] \u001b[39m\u001b[92m+ PNGFiles v0.3.16\u001b[39m\n",
      " \u001b[90m [5432bcbf] \u001b[39m\u001b[92m+ PaddedViews v0.5.11\u001b[39m\n",
      " \u001b[90m [d96e819e] \u001b[39m\u001b[92m+ Parameters v0.12.3\u001b[39m\n",
      " \u001b[90m [eebad327] \u001b[39m\u001b[92m+ PkgVersion v0.1.1\u001b[39m\n",
      " \u001b[90m [21216c6a] \u001b[39m\u001b[92m+ Preferences v1.3.0\u001b[39m\n",
      " \u001b[90m [92933f4c] \u001b[39m\u001b[92m+ ProgressMeter v1.7.2\u001b[39m\n",
      " \u001b[90m [4b34888f] \u001b[39m\u001b[92m+ QOI v1.0.0\u001b[39m\n",
      " \u001b[90m [94ee1d12] \u001b[39m\u001b[92m+ Quaternions v0.5.6\u001b[39m\n",
      " \u001b[90m [b3c3ace0] \u001b[39m\u001b[92m+ RangeArrays v0.3.2\u001b[39m\n",
      " \u001b[90m [c84ed2f1] \u001b[39m\u001b[92m+ Ratios v0.4.3\u001b[39m\n",
      " \u001b[90m [189a3867] \u001b[39m\u001b[92m+ Reexport v1.2.2\u001b[39m\n",
      " \u001b[90m [dee08c22] \u001b[39m\u001b[92m+ RegionTrees v0.3.2\u001b[39m\n",
      " \u001b[90m [ae029012] \u001b[39m\u001b[92m+ Requires v1.3.0\u001b[39m\n",
      " \u001b[90m [6038ab10] \u001b[39m\u001b[92m+ Rotations v1.3.1\u001b[39m\n",
      " \u001b[90m [699a6c99] \u001b[39m\u001b[92m+ SimpleTraits v0.9.4\u001b[39m\n",
      " \u001b[90m [47aef6b3] \u001b[39m\u001b[92m+ SimpleWeightedGraphs v1.2.1\u001b[39m\n",
      " \u001b[90m [45858cf5] \u001b[39m\u001b[92m+ Sixel v0.1.2\u001b[39m\n",
      " \u001b[90m [a2af1166] \u001b[39m\u001b[92m+ SortingAlgorithms v1.0.1\u001b[39m\n",
      " \u001b[90m [276daf66] \u001b[39m\u001b[92m+ SpecialFunctions v2.1.5\u001b[39m\n",
      " \u001b[90m [cae243ae] \u001b[39m\u001b[92m+ StackViews v0.1.1\u001b[39m\n",
      " \u001b[90m [90137ffa] \u001b[39m\u001b[92m+ StaticArrays v1.4.4\u001b[39m\n",
      " \u001b[90m [82ae8749] \u001b[39m\u001b[92m+ StatsAPI v1.3.0\u001b[39m\n",
      " \u001b[90m [2913bbd2] \u001b[39m\u001b[92m+ StatsBase v0.33.16\u001b[39m\n",
      " \u001b[90m [62fd8b95] \u001b[39m\u001b[92m+ TensorCore v0.1.1\u001b[39m\n",
      " \u001b[90m [731e570b] \u001b[39m\u001b[92m+ TiffImages v0.4.3\u001b[39m\n",
      " \u001b[90m [06e1c1a7] \u001b[39m\u001b[92m+ TiledIteration v0.3.1\u001b[39m\n",
      " \u001b[90m [3bb67fe8] \u001b[39m\u001b[92m+ TranscodingStreams v0.9.6\u001b[39m\n",
      " \u001b[90m [3a884ed6] \u001b[39m\u001b[92m+ UnPack v1.0.2\u001b[39m\n",
      " \u001b[90m [efce3f68] \u001b[39m\u001b[92m+ WoodburyMatrices v0.5.5\u001b[39m\n",
      " \u001b[90m [f5851436] \u001b[39m\u001b[92m+ FFTW_jll v3.3.10+0\u001b[39m\n",
      " \u001b[90m [61579ee1] \u001b[39m\u001b[92m+ Ghostscript_jll v9.55.0+0\u001b[39m\n",
      " \u001b[90m [c73af94c] \u001b[39m\u001b[92m+ ImageMagick_jll v6.9.12+2\u001b[39m\n",
      " \u001b[90m [905a6f67] \u001b[39m\u001b[92m+ Imath_jll v3.1.2+0\u001b[39m\n",
      " \u001b[90m [1d5cc7b8] \u001b[39m\u001b[92m+ IntelOpenMP_jll v2018.0.3+2\u001b[39m\n",
      " \u001b[90m [aacddb02] \u001b[39m\u001b[92m+ JpegTurbo_jll v2.1.2+0\u001b[39m\n",
      " \u001b[90m [88015f11] \u001b[39m\u001b[92m+ LERC_jll v3.0.0+1\u001b[39m\n",
      " \u001b[90m [89763e89] \u001b[39m\u001b[92m+ Libtiff_jll v4.3.0+1\u001b[39m\n",
      " \u001b[90m [856f044c] \u001b[39m\u001b[92m+ MKL_jll v2022.0.0+0\u001b[39m\n",
      " \u001b[90m [18a262bb] \u001b[39m\u001b[92m+ OpenEXR_jll v3.1.1+0\u001b[39m\n",
      " \u001b[90m [efe28fd5] \u001b[39m\u001b[92m+ OpenSpecFun_jll v0.5.5+0\u001b[39m\n",
      " \u001b[90m [3161d3a3] \u001b[39m\u001b[92m+ Zstd_jll v1.5.2+0\u001b[39m\n",
      " \u001b[90m [b53b4c65] \u001b[39m\u001b[92m+ libpng_jll v1.6.38+0\u001b[39m\n",
      " \u001b[90m [075b6546] \u001b[39m\u001b[92m+ libsixel_jll v1.8.6+1\u001b[39m\n",
      " \u001b[90m [0dad84c5] \u001b[39m\u001b[92m+ ArgTools\u001b[39m\n",
      " \u001b[90m [56f22d72] \u001b[39m\u001b[92m+ Artifacts\u001b[39m\n",
      " \u001b[90m [2a0f44e3] \u001b[39m\u001b[92m+ Base64\u001b[39m\n",
      " \u001b[90m [ade2ca70] \u001b[39m\u001b[92m+ Dates\u001b[39m\n",
      " \u001b[90m [8ba89e20] \u001b[39m\u001b[92m+ Distributed\u001b[39m\n",
      " \u001b[90m [f43a241f] \u001b[39m\u001b[92m+ Downloads\u001b[39m\n",
      " \u001b[90m [b77e0a4c] \u001b[39m\u001b[92m+ InteractiveUtils\u001b[39m\n",
      " \u001b[90m [4af54fe1] \u001b[39m\u001b[92m+ LazyArtifacts\u001b[39m\n",
      " \u001b[90m [b27032c2] \u001b[39m\u001b[92m+ LibCURL\u001b[39m\n",
      " \u001b[90m [76f85450] \u001b[39m\u001b[92m+ LibGit2\u001b[39m\n",
      " \u001b[90m [8f399da3] \u001b[39m\u001b[92m+ Libdl\u001b[39m\n",
      " \u001b[90m [37e2e46d] \u001b[39m\u001b[92m+ LinearAlgebra\u001b[39m\n",
      " \u001b[90m [56ddb016] \u001b[39m\u001b[92m+ Logging\u001b[39m\n",
      " \u001b[90m [d6f4376e] \u001b[39m\u001b[92m+ Markdown\u001b[39m\n",
      " \u001b[90m [a63ad114] \u001b[39m\u001b[92m+ Mmap\u001b[39m\n",
      " \u001b[90m [ca575930] \u001b[39m\u001b[92m+ NetworkOptions\u001b[39m\n",
      " \u001b[90m [44cfe95a] \u001b[39m\u001b[92m+ Pkg\u001b[39m\n",
      " \u001b[90m [de0858da] \u001b[39m\u001b[92m+ Printf\u001b[39m\n",
      " \u001b[90m [3fa0cd96] \u001b[39m\u001b[92m+ REPL\u001b[39m\n",
      " \u001b[90m [9a3f8284] \u001b[39m\u001b[92m+ Random\u001b[39m\n",
      " \u001b[90m [ea8e919c] \u001b[39m\u001b[92m+ SHA\u001b[39m\n",
      " \u001b[90m [9e88b42a] \u001b[39m\u001b[92m+ Serialization\u001b[39m\n",
      " \u001b[90m [1a1011a3] \u001b[39m\u001b[92m+ SharedArrays\u001b[39m\n",
      " \u001b[90m [6462fe0b] \u001b[39m\u001b[92m+ Sockets\u001b[39m\n",
      " \u001b[90m [2f01184e] \u001b[39m\u001b[92m+ SparseArrays\u001b[39m\n",
      " \u001b[90m [10745b16] \u001b[39m\u001b[92m+ Statistics\u001b[39m\n",
      " \u001b[90m [fa267f1f] \u001b[39m\u001b[92m+ TOML\u001b[39m\n",
      " \u001b[90m [a4e569a6] \u001b[39m\u001b[92m+ Tar\u001b[39m\n",
      " \u001b[90m [8dfed614] \u001b[39m\u001b[92m+ Test\u001b[39m\n",
      " \u001b[90m [cf7118a7] \u001b[39m\u001b[92m+ UUIDs\u001b[39m\n",
      " \u001b[90m [4ec0a83e] \u001b[39m\u001b[92m+ Unicode\u001b[39m\n",
      " \u001b[90m [e66e0078] \u001b[39m\u001b[92m+ CompilerSupportLibraries_jll\u001b[39m\n",
      " \u001b[90m [deac9b47] \u001b[39m\u001b[92m+ LibCURL_jll\u001b[39m\n",
      " \u001b[90m [29816b5a] \u001b[39m\u001b[92m+ LibSSH2_jll\u001b[39m\n",
      " \u001b[90m [c8ffd9c3] \u001b[39m\u001b[92m+ MbedTLS_jll\u001b[39m\n",
      " \u001b[90m [14a3606d] \u001b[39m\u001b[92m+ MozillaCACerts_jll\u001b[39m\n",
      " \u001b[90m [4536629a] \u001b[39m\u001b[92m+ OpenBLAS_jll\u001b[39m\n",
      " \u001b[90m [05823500] \u001b[39m\u001b[92m+ OpenLibm_jll\u001b[39m\n",
      " \u001b[90m [83775a58] \u001b[39m\u001b[92m+ Zlib_jll\u001b[39m\n",
      " \u001b[90m [8e850b90] \u001b[39m\u001b[92m+ libblastrampoline_jll\u001b[39m\n",
      " \u001b[90m [8e850ede] \u001b[39m\u001b[92m+ nghttp2_jll\u001b[39m\n",
      " \u001b[90m [3f19e933] \u001b[39m\u001b[92m+ p7zip_jll\u001b[39m\n",
      "\u001b[32m\u001b[1mPrecompiling\u001b[22m\u001b[39m project...\n",
      "\u001b[32m  ✓ \u001b[39m\u001b[90mLazyModules\u001b[39m\n",
      "\u001b[32m  ✓ \u001b[39m\u001b[90mOffsetArrays\u001b[39m\n",
      "\u001b[32m  ✓ \u001b[39m\u001b[90mIntervalSets\u001b[39m\n",
      "\u001b[32m  ✓ \u001b[39m\u001b[90mCompat\u001b[39m\n",
      "\u001b[32m  ✓ \u001b[39m\u001b[90mPaddedViews\u001b[39m\n",
      "\u001b[32m  ✓ \u001b[39m\u001b[90mDataStructures\u001b[39m\n",
      "\u001b[32m  ✓ \u001b[39m\u001b[90mTiledIteration\u001b[39m\n",
      "\u001b[32m  ✓ \u001b[39m\u001b[90mCatIndices\u001b[39m\n",
      "\u001b[32m  ✓ \u001b[39m\u001b[90mStackViews\u001b[39m\n",
      "\u001b[32m  ✓ \u001b[39m\u001b[90mAxisArrays\u001b[39m\n",
      "\u001b[32m  ✓ \u001b[39m\u001b[90mSortingAlgorithms\u001b[39m\n",
      "\u001b[32m  ✓ \u001b[39m\u001b[90mMosaicViews\u001b[39m\n",
      "\u001b[32m  ✓ \u001b[39m\u001b[90mChainRulesCore\u001b[39m\n",
      "\u001b[32m  ✓ \u001b[39m\u001b[90mChangesOfVariables\u001b[39m\n",
      "\u001b[32m  ✓ \u001b[39m\u001b[90mAbstractFFTs\u001b[39m\n",
      "\u001b[32m  ✓ \u001b[39m\u001b[90mLogExpFunctions\u001b[39m\n",
      "\u001b[32m  ✓ \u001b[39m\u001b[90mInterpolations\u001b[39m\n",
      "\u001b[32m  ✓ \u001b[39m\u001b[90mColorTypes\u001b[39m\n",
      "\u001b[32m  ✓ \u001b[39m\u001b[90mGraphs\u001b[39m\n",
      "\u001b[32m  ✓ \u001b[39m\u001b[90mStatsBase\u001b[39m\n",
      "\u001b[32m  ✓ \u001b[39m\u001b[90mFFTW\u001b[39m\n",
      "\u001b[32m  ✓ \u001b[39m\u001b[90mQOI\u001b[39m\n",
      "\u001b[32m  ✓ \u001b[39m\u001b[90mIntegralArrays\u001b[39m\n",
      "\u001b[32m  ✓ \u001b[39m\u001b[90mFFTViews\u001b[39m\n"
     ]
    },
    {
     "name": "stderr",
     "output_type": "stream",
     "text": [
      "\u001b[32m  ✓ \u001b[39m\u001b[90mSimpleWeightedGraphs\u001b[39m\n",
      "\u001b[32m  ✓ \u001b[39m\u001b[90mMetaGraphs\u001b[39m\n",
      "\u001b[32m  ✓ \u001b[39m\u001b[90mSpecialFunctions\u001b[39m\n",
      "\u001b[32m  ✓ \u001b[39m\u001b[90mClustering\u001b[39m\n",
      "\u001b[32m  ✓ \u001b[39m\u001b[90mDualNumbers\u001b[39m\n",
      "\u001b[32m  ✓ \u001b[39m\u001b[90mColors\u001b[39m\n",
      "\u001b[32m  ✓ \u001b[39m\u001b[90mQuaternions\u001b[39m\n",
      "\u001b[32m  ✓ \u001b[39m\u001b[90mGraphics\u001b[39m\n",
      "\u001b[32m  ✓ \u001b[39m\u001b[90mColorVectorSpace\u001b[39m\n",
      "\u001b[32m  ✓ \u001b[39m\u001b[90mOpenEXR\u001b[39m\n",
      "\u001b[32m  ✓ \u001b[39m\u001b[90mRotations\u001b[39m\n",
      "\u001b[32m  ✓ \u001b[39m\u001b[90mTiffImages\u001b[39m\n",
      "\u001b[32m  ✓ \u001b[39m\u001b[90mImageCore\u001b[39m\n",
      "\u001b[32m  ✓ \u001b[39m\u001b[90mImageMorphology\u001b[39m\n",
      "\u001b[32m  ✓ \u001b[39m\u001b[90mNetpbm\u001b[39m\n",
      "\u001b[32m  ✓ \u001b[39m\u001b[90mImageBase\u001b[39m\n",
      "\u001b[32m  ✓ \u001b[39m\u001b[90mJpegTurbo\u001b[39m\n",
      "\u001b[32m  ✓ \u001b[39m\u001b[90mSixel\u001b[39m\n",
      "\u001b[32m  ✓ \u001b[39m\u001b[90mImageDistances\u001b[39m\n",
      "\u001b[32m  ✓ \u001b[39m\u001b[90mImageMagick\u001b[39m\n",
      "\u001b[32m  ✓ \u001b[39m\u001b[90mPNGFiles\u001b[39m\n",
      "\u001b[32m  ✓ \u001b[39m\u001b[90mImageShow\u001b[39m\n",
      "\u001b[32m  ✓ \u001b[39m\u001b[90mImageIO\u001b[39m\n",
      "\u001b[32m  ✓ \u001b[39m\u001b[90mImageAxes\u001b[39m\n",
      "\u001b[32m  ✓ \u001b[39m\u001b[90mImageTransformations\u001b[39m\n",
      "\u001b[32m  ✓ \u001b[39m\u001b[90mImageMetadata\u001b[39m\n",
      "\u001b[32m  ✓ \u001b[39m\u001b[90mImageContrastAdjustment\u001b[39m\n",
      "\u001b[32m  ✓ \u001b[39m\u001b[90mImageFiltering\u001b[39m\n",
      "\u001b[32m  ✓ \u001b[39m\u001b[90mImageQualityIndexes\u001b[39m\n",
      "\u001b[32m  ✓ \u001b[39m\u001b[90mImageSegmentation\u001b[39m\n",
      "\u001b[32m  ✓ \u001b[39mImages\n",
      "  55 dependencies successfully precompiled in 46 seconds (63 already precompiled)\n"
     ]
    }
   ],
   "source": [
    "Pkg.add(\"Images\")"
   ]
  },
  {
   "cell_type": "markdown",
   "metadata": {},
   "source": [
    "Now let's again see which packages are installed in current environment `ImageProcessing`"
   ]
  },
  {
   "cell_type": "code",
   "execution_count": 9,
   "metadata": {},
   "outputs": [
    {
     "data": {
      "text/plain": [
       "KeySet for a Dict{String, Base.UUID} with 1 entry. Keys:\n",
       "  \"Images\""
      ]
     },
     "metadata": {},
     "output_type": "display_data"
    }
   ],
   "source": [
    "keys(Pkg.project().dependencies)"
   ]
  },
  {
   "cell_type": "markdown",
   "metadata": {},
   "source": [
    "Perfect!\n",
    "\n",
    "This is it for today. See you in next tutorial..."
   ]
  },
  {
   "cell_type": "code",
   "execution_count": 11,
   "metadata": {},
   "outputs": [
    {
     "data": {
      "text/plain": [
       "v\"1.7.2\""
      ]
     },
     "metadata": {},
     "output_type": "display_data"
    }
   ],
   "source": [
    "VERSION"
   ]
  },
  {
   "cell_type": "markdown",
   "metadata": {},
   "source": []
  }
 ],
 "metadata": {
  "kernelspec": {
   "display_name": "Julia 1.7.2",
   "language": "julia",
   "name": "julia-1.7"
  },
  "language_info": {
   "file_extension": ".jl",
   "mimetype": "application/julia",
   "name": "julia",
   "version": "1.7.2"
  },
  "orig_nbformat": 4
 },
 "nbformat": 4,
 "nbformat_minor": 2
}
